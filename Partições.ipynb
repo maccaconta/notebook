{
 "cells": [
  {
   "cell_type": "markdown",
   "id": "39613c63",
   "metadata": {},
   "source": [
    " <h3> Partições </h3>"
   ]
  },
  {
   "cell_type": "markdown",
   "id": "486892ca",
   "metadata": {},
   "source": [
    "<b> imports </b>"
   ]
  },
  {
   "cell_type": "code",
   "execution_count": 3,
   "id": "f17aba89",
   "metadata": {},
   "outputs": [],
   "source": [
    "from pyspark.sql import SparkSession"
   ]
  },
  {
   "cell_type": "code",
   "execution_count": 9,
   "id": "a4f89b3a",
   "metadata": {},
   "outputs": [],
   "source": [
    "from pyspark.sql import functions as F"
   ]
  },
  {
   "cell_type": "code",
   "execution_count": null,
   "id": "6aec4b8c",
   "metadata": {},
   "outputs": [],
   "source": [
    "from pyspark.sql.functions import *"
   ]
  },
  {
   "cell_type": "markdown",
   "id": "a5e99b9c",
   "metadata": {},
   "source": [
    "<b> load session </b>"
   ]
  },
  {
   "cell_type": "code",
   "execution_count": 11,
   "id": "62214b20",
   "metadata": {},
   "outputs": [],
   "source": [
    "sparkContext = (SparkSession\n",
    "                .builder\n",
    "                .master('local[*]')\n",
    "                .appName(\"minhas partições\")\n",
    "                .getOrCreate())"
   ]
  },
  {
   "cell_type": "markdown",
   "id": "3e5e8758",
   "metadata": {},
   "source": [
    "<b> load csv </b>"
   ]
  },
  {
   "cell_type": "code",
   "execution_count": 37,
   "id": "baaf2c92",
   "metadata": {},
   "outputs": [],
   "source": [
    "url = \"/Users/macca/Documents/spark/pyspark_com_grimaldo/arquivo_de_dados/Bikes.csv\""
   ]
  },
  {
   "cell_type": "code",
   "execution_count": 40,
   "id": "a45df8d6",
   "metadata": {},
   "outputs": [],
   "source": [
    "df2 = (sparkContext\n",
    "      .read\n",
    "      .format(\"csv\")\n",
    "      .option(\"header\", \"true\")\n",
    "      .option(\"inferSchema\", \"true\")\n",
    "      .option(\"delimiter\", \",\")\n",
    "     .load(url))"
   ]
  },
  {
   "cell_type": "markdown",
   "id": "25c01707",
   "metadata": {},
   "source": [
    "<b> numero de partições </b>"
   ]
  },
  {
   "cell_type": "code",
   "execution_count": 79,
   "id": "905cbbcf",
   "metadata": {},
   "outputs": [
    {
     "data": {
      "text/plain": [
       "1"
      ]
     },
     "execution_count": 79,
     "metadata": {},
     "output_type": "execute_result"
    }
   ],
   "source": [
    "df2.rdd.getNumPartitions()"
   ]
  },
  {
   "cell_type": "code",
   "execution_count": 80,
   "id": "49860ed5",
   "metadata": {},
   "outputs": [
    {
     "name": "stdout",
     "output_type": "stream",
     "text": [
      "+--------------------+--------+---------+----------+------------+---+-----+-------------+\n",
      "|           bike_name|   price|     city|kms_driven|       owner|age|power|        brand|\n",
      "+--------------------+--------+---------+----------+------------+---+-----+-------------+\n",
      "|TVS Star City Plu...| 35000.0|Ahmedabad|   17654.0| First Owner|3.0|110.0|          TVS|\n",
      "|Royal Enfield Cla...|119900.0|    Delhi|   11000.0| First Owner|4.0|350.0|Royal Enfield|\n",
      "|Triumph Daytona 675R|600000.0|    Delhi|     110.0| First Owner|8.0|675.0|      Triumph|\n",
      "|TVS Apache RTR 180cc| 65000.0|Bangalore|   16329.0| First Owner|4.0|180.0|          TVS|\n",
      "|Yamaha FZ S V 2.0...| 80000.0|Bangalore|   10000.0| First Owner|3.0|150.0|       Yamaha|\n",
      "|    Yamaha FZs 150cc| 53499.0|    Delhi|   25000.0| First Owner|6.0|150.0|       Yamaha|\n",
      "|Honda CB Hornet 1...| 85000.0|    Delhi|    8200.0| First Owner|3.0|160.0|        Honda|\n",
      "|Hero Splendor Plu...| 45000.0|    Delhi|   12645.0| First Owner|3.0|100.0|         Hero|\n",
      "|Royal Enfield Thu...|145000.0|Bangalore|    9190.0| First Owner|3.0|350.0|Royal Enfield|\n",
      "|Royal Enfield Cla...| 88000.0|    Delhi|   19000.0|Second Owner|7.0|500.0|Royal Enfield|\n",
      "+--------------------+--------+---------+----------+------------+---+-----+-------------+\n",
      "only showing top 10 rows\n",
      "\n"
     ]
    }
   ],
   "source": [
    "df2.show(10)"
   ]
  },
  {
   "cell_type": "code",
   "execution_count": 58,
   "id": "c7a9b908",
   "metadata": {},
   "outputs": [],
   "source": [
    "#df_repartition = df2.repartition(8)"
   ]
  },
  {
   "cell_type": "markdown",
   "id": "db534ba0",
   "metadata": {},
   "source": [
    "<b> inicia Sql Server </b>"
   ]
  },
  {
   "cell_type": "code",
   "execution_count": 82,
   "id": "8d8b994a",
   "metadata": {},
   "outputs": [],
   "source": [
    "df2.createOrReplaceTempView(\"tbdelhi\")"
   ]
  },
  {
   "cell_type": "code",
   "execution_count": 91,
   "id": "59be81f4",
   "metadata": {},
   "outputs": [],
   "source": [
    "df3 = sparkContext.sql(\"select * from tbdelhi where city='Delhi'\")"
   ]
  },
  {
   "cell_type": "code",
   "execution_count": 96,
   "id": "fb6cb3c9",
   "metadata": {},
   "outputs": [
    {
     "name": "stdout",
     "output_type": "stream",
     "text": [
      "+--------------------+--------+-----+----------+------------+---+-----+-------------+\n",
      "|           bike_name|   price| city|kms_driven|       owner|age|power|        brand|\n",
      "+--------------------+--------+-----+----------+------------+---+-----+-------------+\n",
      "|Royal Enfield Cla...|119900.0|Delhi|   11000.0| First Owner|4.0|350.0|Royal Enfield|\n",
      "|Triumph Daytona 675R|600000.0|Delhi|     110.0| First Owner|8.0|675.0|      Triumph|\n",
      "|    Yamaha FZs 150cc| 53499.0|Delhi|   25000.0| First Owner|6.0|150.0|       Yamaha|\n",
      "|Honda CB Hornet 1...| 85000.0|Delhi|    8200.0| First Owner|3.0|160.0|        Honda|\n",
      "|Hero Splendor Plu...| 45000.0|Delhi|   12645.0| First Owner|3.0|100.0|         Hero|\n",
      "|Royal Enfield Cla...| 88000.0|Delhi|   19000.0|Second Owner|7.0|500.0|Royal Enfield|\n",
      "| Bajaj Discover 100M| 29499.0|Delhi|   20000.0| First Owner|8.0|100.0|        Bajaj|\n",
      "| Bajaj Discover 125M| 29900.0|Delhi|   20000.0| First Owner|7.0|125.0|        Bajaj|\n",
      "| Bajaj Discover 125M| 29900.0|Delhi|   20000.0| First Owner|7.0|125.0|        Bajaj|\n",
      "|Hero Splendor iSm...| 46500.0|Delhi|    3500.0| First Owner|2.0|110.0|         Hero|\n",
      "+--------------------+--------+-----+----------+------------+---+-----+-------------+\n",
      "only showing top 10 rows\n",
      "\n"
     ]
    }
   ],
   "source": [
    "df3.show(10)"
   ]
  },
  {
   "cell_type": "code",
   "execution_count": 97,
   "id": "59165022",
   "metadata": {},
   "outputs": [],
   "source": [
    "df4 = df3.filter(df3.owner.isNotNull())"
   ]
  },
  {
   "cell_type": "markdown",
   "id": "8ffb6197",
   "metadata": {},
   "source": [
    "<b> Grava particionado por owner </b>"
   ]
  },
  {
   "cell_type": "code",
   "execution_count": 88,
   "id": "6dbbc2e6",
   "metadata": {},
   "outputs": [],
   "source": [
    "url3 = \"/Users/macca/Documents/spark/pyspark_com_grimaldo/arquivo_de_dados/delhi\""
   ]
  },
  {
   "cell_type": "code",
   "execution_count": 98,
   "id": "3991c438",
   "metadata": {},
   "outputs": [
    {
     "name": "stderr",
     "output_type": "stream",
     "text": [
      "                                                                                \r"
     ]
    }
   ],
   "source": [
    "df4.write.option(\"header\",True).partitionBy(\"owner\").mode(\"overwrite\").csv(url3)"
   ]
  },
  {
   "cell_type": "markdown",
   "id": "8ff1e642",
   "metadata": {},
   "source": [
    "<b> Recupera partição </b>"
   ]
  },
  {
   "cell_type": "code",
   "execution_count": 99,
   "id": "a3a1440d",
   "metadata": {},
   "outputs": [],
   "source": [
    "df5=sparkContext.read.option(\"header\",True).csv(url3 + \"/owner=First Owner\")"
   ]
  },
  {
   "cell_type": "code",
   "execution_count": 100,
   "id": "1e51a315",
   "metadata": {},
   "outputs": [
    {
     "name": "stdout",
     "output_type": "stream",
     "text": [
      "+--------------------+--------+-----+----------+----+-----+-------------+\n",
      "|           bike_name|   price| city|kms_driven| age|power|        brand|\n",
      "+--------------------+--------+-----+----------+----+-----+-------------+\n",
      "|Royal Enfield Cla...|119900.0|Delhi|   11000.0| 4.0|350.0|Royal Enfield|\n",
      "|Triumph Daytona 675R|600000.0|Delhi|     110.0| 8.0|675.0|      Triumph|\n",
      "|    Yamaha FZs 150cc| 53499.0|Delhi|   25000.0| 6.0|150.0|       Yamaha|\n",
      "|Honda CB Hornet 1...| 85000.0|Delhi|    8200.0| 3.0|160.0|        Honda|\n",
      "|Hero Splendor Plu...| 45000.0|Delhi|   12645.0| 3.0|100.0|         Hero|\n",
      "| Bajaj Discover 100M| 29499.0|Delhi|   20000.0| 8.0|100.0|        Bajaj|\n",
      "| Bajaj Discover 125M| 29900.0|Delhi|   20000.0| 7.0|125.0|        Bajaj|\n",
      "| Bajaj Discover 125M| 29900.0|Delhi|   20000.0| 7.0|125.0|        Bajaj|\n",
      "|Hero Splendor iSm...| 46500.0|Delhi|    3500.0| 2.0|110.0|         Hero|\n",
      "|Yamaha FZ V 2.0 1...| 45000.0|Delhi|   23000.0| 6.0|150.0|       Yamaha|\n",
      "|Royal Enfield Cla...| 85000.0|Delhi|   18000.0| 6.0|350.0|Royal Enfield|\n",
      "|  Bajaj Pulsar NS200| 38000.0|Delhi|   35000.0| 9.0|200.0|        Bajaj|\n",
      "|Suzuki Gixxer SF ...| 97000.0|Delhi|    4400.0| 3.0|150.0|       Suzuki|\n",
      "|Royal Enfield‎ Bu...| 90000.0|Delhi|   15300.0| 7.0|350.0|Royal Enfield|\n",
      "|  Bajaj Pulsar 220cc| 80000.0|Delhi|    6000.0| 3.0|220.0|        Bajaj|\n",
      "|Royal Enfield Thu...| 88000.0|Delhi|   19000.0| 5.0|350.0|Royal Enfield|\n",
      "|Royal Enfield Cla...|106000.0|Delhi|   19000.0| 6.0|350.0|Royal Enfield|\n",
      "|Royal Enfield Thu...|110000.0|Delhi|    1600.0| 6.0|350.0|Royal Enfield|\n",
      "|  Bajaj Pulsar 135LS| 14700.0|Delhi|   10000.0|11.0|135.0|        Bajaj|\n",
      "|Hero Splendor plu...| 31900.0|Delhi|    9000.0| 5.0|100.0|         Hero|\n",
      "+--------------------+--------+-----+----------+----+-----+-------------+\n",
      "only showing top 20 rows\n",
      "\n"
     ]
    }
   ],
   "source": [
    "df5.show()"
   ]
  },
  {
   "cell_type": "code",
   "execution_count": null,
   "id": "44f941e8",
   "metadata": {},
   "outputs": [],
   "source": []
  }
 ],
 "metadata": {
  "kernelspec": {
   "display_name": "Python 3 (ipykernel)",
   "language": "python",
   "name": "python3"
  },
  "language_info": {
   "codemirror_mode": {
    "name": "ipython",
    "version": 3
   },
   "file_extension": ".py",
   "mimetype": "text/x-python",
   "name": "python",
   "nbconvert_exporter": "python",
   "pygments_lexer": "ipython3",
   "version": "3.8.1"
  }
 },
 "nbformat": 4,
 "nbformat_minor": 5
}
